{
 "cells": [
  {
   "cell_type": "code",
   "execution_count": 213,
   "metadata": {},
   "outputs": [],
   "source": [
    "import gurobipy as gp\n",
    "import numpy as np\n",
    "import pandas as pd\n",
    "import BS_functions\n",
    "from datetime import date, datetime\n",
    "from gurobipy import GRB\n",
    "from copy import deepcopy\n",
    "import matplotlib.pyplot as plt"
   ]
  },
  {
   "cell_type": "code",
   "execution_count": 427,
   "metadata": {},
   "outputs": [
    {
     "data": {
      "text/plain": [
       "<module 'BS_functions' from 'C:\\\\Users\\\\jungwoo\\\\Desktop\\\\FE_project_3\\\\BS_functions.py'>"
      ]
     },
     "execution_count": 427,
     "metadata": {},
     "output_type": "execute_result"
    }
   ],
   "source": [
    "import imp\n",
    "imp.reload(BS_functions)"
   ]
  },
  {
   "cell_type": "code",
   "execution_count": null,
   "metadata": {},
   "outputs": [],
   "source": [
    "def deBoor(k, x, t, c, p=3):\n",
    "    d = [c[j+k-p] for j in range(0, p+1)]\n",
    "    for r in range(1, p+1):\n",
    "        for j in range(p, r-1, -1):\n",
    "            alpha = (x-t[j+k-p]) / (t[j+1+k-r]-t[j+k-p])\n",
    "            d[j] = ((1.0-alpha)*d[j-1][0]+alpha*d[j][0], (1.0-alpha)*d[j-1][1] + alpha*d[j][1])\n",
    "    return d[p]"
   ]
  },
  {
   "cell_type": "code",
   "execution_count": 4,
   "metadata": {},
   "outputs": [],
   "source": [
    "def SS(x, t, max_x):\n",
    "    x = x/max_x\n",
    "    for i in range(len(t)):\n",
    "        if x < t[i]:\n",
    "            k = i-1\n",
    "            break\n",
    "    if k >= len(t)-4:\n",
    "        k = len(t)-5\n",
    "    D = [[None]*len(t) for i in range(4)]\n",
    "    return B(x, t, k, 3, D)"
   ]
  },
  {
   "cell_type": "code",
   "execution_count": null,
   "metadata": {},
   "outputs": [],
   "source": [
    "def minimize2D(P):\n",
    "    _x, _y = list(zip(*P))\n",
    "    m = gp.Model()\n",
    "    n_P = len(P)\n",
    "    n_K = n_P+3+1\n",
    "    max_x = max(_x)\n",
    "    knots = m.addMVar(n_K, lb=0, ub=1, name='knots')\n",
    "    \n",
    "    y_hat = [S(_x[i], knots, max_x, P) for i in range(n_P)]\n",
    "    #obj = sum((_y[i]-S(_x[i], knots, max_x, P))**2 for i in range(n_P))\n",
    "    obj = sum((_y[i]-y_hat[i])**2 for i in range(n_P))\n",
    "    m.setObjective(obj)\n",
    "    m.addConstrs(knots[i]<=knots[i+1] for i in range(0, n_K-1))\n",
    "    m.addConstrs(knots[i]<=_x[0]/max_x for in in range(0, 3))\n",
    "    m.addConstrs(knots[-i]>=_x[-1]/max_x for in in range(1, 4))\n",
    "    m.addConstrs()\n",
    "    "
   ]
  },
  {
   "cell_type": "code",
   "execution_count": 313,
   "metadata": {},
   "outputs": [],
   "source": [
    "def b_spline_base(P, x):\n",
    "    n_P = len(P)\n",
    "    delta = np.mean(np.diff(P))\n",
    "    t = [P[0]-delta*3, P[0]-delta*2, P[0]-delta*1]+\\\n",
    "            np.linspace(P[0],P[-1], n_P-2).tolist()+\\\n",
    "            [P[-1]+delta*1, P[-1]+delta*2, P[-1]+delta*3]\n",
    "    B = [[0]*(4) for _ in range(n_P+4)]\n",
    "    \n",
    "    for i in range(len(t)):\n",
    "        if t[i]<=x and x<t[i+1]:\n",
    "            B[i][0]= 1\n",
    "            break\n",
    "    for k in range(1, 4):\n",
    "        for i in range(len(t)-k-1):\n",
    "            B[i][k]= ((x-t[i])/(t[i+k]-t[i]))*B[i][k-1] + ((t[i+k+1]-x)/(t[i+k+1]-t[i+1]))*B[i+1][k-1]\n",
    "    return [B[i][3] for i in range(len(B))]"
   ]
  },
  {
   "cell_type": "code",
   "execution_count": 337,
   "metadata": {},
   "outputs": [],
   "source": [
    "def get_bases(_x):\n",
    "    return [b_spline_base(_x, i) for i in _x]"
   ]
  },
  {
   "cell_type": "code",
   "execution_count": 59,
   "metadata": {},
   "outputs": [],
   "source": [
    "#def get_bases(_x):\n",
    "#    basis = []\n",
    "#    for x in _x:\n",
    "#        B = b_spline_base(_x, x)\n",
    "#        basis.append([B[i][3] for i in range(len(_x))])\n",
    "#    return basis"
   ]
  },
  {
   "cell_type": "code",
   "execution_count": 329,
   "metadata": {},
   "outputs": [],
   "source": [
    "get_bases = None"
   ]
  },
  {
   "cell_type": "code",
   "execution_count": 316,
   "metadata": {
    "scrolled": true
   },
   "outputs": [
    {
     "data": {
      "text/plain": [
       "(3895.0,\n",
       " 3905.0,\n",
       " 4085.0,\n",
       " 4115.0,\n",
       " 4125.0,\n",
       " 4130.0,\n",
       " 4135.0,\n",
       " 4140.0,\n",
       " 4145.0,\n",
       " 4150.0,\n",
       " 4155.0,\n",
       " 4160.0,\n",
       " 4165.0,\n",
       " 4170.0,\n",
       " 4175.0,\n",
       " 4180.0,\n",
       " 4185.0,\n",
       " 4190.0,\n",
       " 4195.0,\n",
       " 4200.0,\n",
       " 4205.0,\n",
       " 4210.0,\n",
       " 4215.0,\n",
       " 4220.0,\n",
       " 4225.0,\n",
       " 4230.0,\n",
       " 4235.0,\n",
       " 4240.0,\n",
       " 4245.0,\n",
       " 4250.0,\n",
       " 4255.0,\n",
       " 4260.0,\n",
       " 4265.0,\n",
       " 4270.0,\n",
       " 4275.0,\n",
       " 4280.0,\n",
       " 4285.0,\n",
       " 4290.0,\n",
       " 4295.0,\n",
       " 4300.0,\n",
       " 4305.0,\n",
       " 4310.0,\n",
       " 4315.0,\n",
       " 4320.0,\n",
       " 4325.0,\n",
       " 4330.0,\n",
       " 4335.0,\n",
       " 4340.0,\n",
       " 4345.0,\n",
       " 4350.0,\n",
       " 4355.0,\n",
       " 4360.0,\n",
       " 4365.0,\n",
       " 4370.0,\n",
       " 4375.0,\n",
       " 4380.0,\n",
       " 4385.0,\n",
       " 4390.0,\n",
       " 4395.0,\n",
       " 4400.0,\n",
       " 4405.0,\n",
       " 4410.0,\n",
       " 4415.0,\n",
       " 4420.0,\n",
       " 4425.0,\n",
       " 4430.0,\n",
       " 4435.0,\n",
       " 4440.0,\n",
       " 4450.0,\n",
       " 4455.0,\n",
       " 4460.0,\n",
       " 4470.0,\n",
       " 4475.0,\n",
       " 4480.0,\n",
       " 4500.0,\n",
       " 4525.0,\n",
       " 4550.0,\n",
       " 4575.0,\n",
       " 4600.0,\n",
       " 4700.0)"
      ]
     },
     "execution_count": 316,
     "metadata": {},
     "output_type": "execute_result"
    }
   ],
   "source": [
    "_x"
   ]
  },
  {
   "cell_type": "code",
   "execution_count": 318,
   "metadata": {},
   "outputs": [],
   "source": [
    "bases = [b_spline_base(_x, i) for i in _x]"
   ]
  },
  {
   "cell_type": "code",
   "execution_count": 476,
   "metadata": {},
   "outputs": [
    {
     "name": "stdout",
     "output_type": "stream",
     "text": [
      "calculating calls expiring 2021-06-11\n"
     ]
    }
   ],
   "source": [
    "df = pd.read_hdf('./data/calls/call_s210611_d210606.h5')\n",
    "imvol_list = BS_functions.get_imvol_list(expir=date(2021, 6, 11), df = df, moneyness=False, imvol=False)\n",
    "_x, _y = list(zip(*imvol_list))"
   ]
  },
  {
   "cell_type": "code",
   "execution_count": 19,
   "metadata": {
    "scrolled": true
   },
   "outputs": [
    {
     "data": {
      "text/plain": [
       "[(3895.0, 0.3267720219434797),\n",
       " (3905.0, 0.3194751988245845),\n",
       " (4085.0, 0.1472389582974017),\n",
       " (4115.0, 0.10781508495771885),\n",
       " (4125.0, 0.13154307426834103),\n",
       " (4130.0, 0.1194467111377418),\n",
       " (4135.0, 0.10417449650007485),\n",
       " (4140.0, 0.11459841457536815),\n",
       " (4145.0, 0.10001467759986218),\n",
       " (4150.0, 0.10183319859227535),\n",
       " (4155.0, 0.1356437356177717),\n",
       " (4160.0, 0.10806982005359234),\n",
       " (4165.0, 0.10941032717408239),\n",
       " (4170.0, 0.11023856268732249),\n",
       " (4175.0, 0.10654269097693261),\n",
       " (4180.0, 0.10650692077525704),\n",
       " (4185.0, 0.1002382245965451),\n",
       " (4190.0, 0.10174844087216256),\n",
       " (4195.0, 0.09860002237541968),\n",
       " (4200.0, 0.0959103803707361),\n",
       " (4205.0, 0.0974077816605419),\n",
       " (4210.0, 0.09586888812888412),\n",
       " (4215.0, 0.0918519339687526),\n",
       " (4220.0, 0.10291776362404226),\n",
       " (4225.0, 0.09144478249802439),\n",
       " (4230.0, 0.08976284541253003),\n",
       " (4235.0, 0.0869236927565187),\n",
       " (4240.0, 0.0855813602456078),\n",
       " (4245.0, 0.08653547319215535),\n",
       " (4250.0, 0.08566552937044203),\n",
       " (4255.0, 0.08335378043574092),\n",
       " (4260.0, 0.08140736290469763),\n",
       " (4265.0, 0.08379419871556759),\n",
       " (4270.0, 0.07991712906625867),\n",
       " (4275.0, 0.07874043024696409),\n",
       " (4280.0, 0.07709166311311721),\n",
       " (4285.0, 0.07764595595291257),\n",
       " (4290.0, 0.07448873087871075),\n",
       " (4295.0, 0.0742712337474227),\n",
       " (4300.0, 0.07389536723333597),\n",
       " (4305.0, 0.07532018503955007),\n",
       " (4310.0, 0.07448458836004135),\n",
       " (4315.0, 0.07582369477277995),\n",
       " (4320.0, 0.07723340281665325),\n",
       " (4325.0, 0.08015402749001979),\n",
       " (4330.0, 0.08009942969000336),\n",
       " (4335.0, 0.08132203894102571),\n",
       " (4340.0, 0.08207591773426531),\n",
       " (4345.0, 0.08525272291469574),\n",
       " (4350.0, 0.08721729004192352),\n",
       " (4355.0, 0.09429271192920208),\n",
       " (4360.0, 0.09133167534708975),\n",
       " (4365.0, 0.09435422386109826),\n",
       " (4370.0, 0.10383528680586815),\n",
       " (4375.0, 0.09466094905638694),\n",
       " (4380.0, 0.0986403895807266),\n",
       " (4385.0, 0.10149974074053761),\n",
       " (4390.0, 0.10434740940165518),\n",
       " (4395.0, 0.11220329372715948),\n",
       " (4400.0, 0.10594767330431937),\n",
       " (4405.0, 0.1128236582496166),\n",
       " (4410.0, 0.11562769635438919),\n",
       " (4415.0, 0.11842172088885305),\n",
       " (4420.0, 0.12120597027134894),\n",
       " (4425.0, 0.1239804445018768),\n",
       " (4430.0, 0.12674538199877738),\n",
       " (4435.0, 0.12084715066862106),\n",
       " (4440.0, 0.12344209588861463),\n",
       " (4450.0, 0.1286081444945335),\n",
       " (4455.0, 0.13117972471714018),\n",
       " (4460.0, 0.133743675552845),\n",
       " (4470.0, 0.14334955049896242),\n",
       " (4475.0, 0.1413926127586365),\n",
       " (4480.0, 0.14392795339345932),\n",
       " (4500.0, 0.1540025587973594),\n",
       " (4525.0, 0.16645133403778078),\n",
       " (4550.0, 0.17874895205020902),\n",
       " (4575.0, 0.190905426404953),\n",
       " (4600.0, 0.20292838648891448),\n",
       " (4700.0, 0.24980143226718904)]"
      ]
     },
     "execution_count": 19,
     "metadata": {},
     "output_type": "execute_result"
    }
   ],
   "source": [
    "imvol_list"
   ]
  },
  {
   "cell_type": "code",
   "execution_count": 38,
   "metadata": {},
   "outputs": [
    {
     "data": {
      "text/plain": [
       "10.189873417721518"
      ]
     },
     "execution_count": 38,
     "metadata": {},
     "output_type": "execute_result"
    }
   ],
   "source": [
    "np.mean(np.diff(_x))"
   ]
  },
  {
   "cell_type": "code",
   "execution_count": 64,
   "metadata": {},
   "outputs": [],
   "source": [
    "def minimize2D(P):\n",
    "    _x, _y = list(zip(*P))\n",
    "    bases = get_bases(_x)\n",
    "    \n",
    "    m = gp.Model()\n",
    "    n_P = len(P)\n",
    "    n_K = n_P+3+1\n",
    "    max_x = max(_x)\n",
    "    \n",
    "    alpha = m.addMVar(len(_x), lb=-float('inf'), ub=float('inf'), name='alpha')\n",
    "    y_hat = alpha@np.array(bases).transpose()\n",
    "    obj = sum((_y[i]-y_hat[i])**2 for i in range(n_P))\n",
    "    m.setObjective(obj)\n",
    "    m.optimize()\n",
    "    \n",
    "    '''\n",
    "    y_hat = [S(_x[i], knots, max_x, P) for i in range(n_P)]\n",
    "    #obj = sum((_y[i]-S(_x[i], knots, max_x, P))**2 for i in range(n_P))\n",
    "    obj = sum((_y[i]-y_hat[i])**2 for i in range(n_P))\n",
    "    m.setObjective(obj)\n",
    "    m.addConstrs(knots[i]<=knots[i+1] for i in range(0, n_K-1))\n",
    "    m.addConstrs(knots[i]<=_x[0]/max_x for in in range(0, 3))\n",
    "    m.addConstrs(knots[-i]>=_x[-1]/max_x for in in range(1, 4))\n",
    "    m.addConstrs()\n",
    "    '''"
   ]
  },
  {
   "cell_type": "code",
   "execution_count": 248,
   "metadata": {
    "collapsed": true
   },
   "outputs": [
    {
     "data": {
      "text/plain": [
       "[[0, 0.0, 0.0, 0.17170133157257486],\n",
       " [0, 0.0, 0.5064102564102547, 0.6665692630809972],\n",
       " [0, 1.0, 0.4935897435897453, 0.1617294053464279],\n",
       " [1, 0.0, 0.0, 0.0],\n",
       " [0, 0.0, 0.0, 0.0],\n",
       " [0, 0.0, 0.0, 0.0],\n",
       " [0, 0.0, 0.0, 0.0],\n",
       " [0, 0.0, 0.0, 0.0],\n",
       " [0, 0.0, 0.0, 0.0],\n",
       " [0, 0.0, 0.0, 0.0],\n",
       " [0, 0.0, 0.0, 0.0],\n",
       " [0, 0.0, 0.0, 0.0],\n",
       " [0, 0.0, 0.0, 0.0],\n",
       " [0, 0.0, 0.0, 0.0],\n",
       " [0, 0.0, 0.0, 0.0],\n",
       " [0, 0.0, 0.0, 0.0],\n",
       " [0, 0.0, 0.0, 0.0],\n",
       " [0, 0.0, 0.0, 0.0],\n",
       " [0, 0.0, 0.0, 0.0],\n",
       " [0, 0.0, 0.0, 0.0],\n",
       " [0, 0.0, 0.0, 0.0],\n",
       " [0, 0.0, 0.0, 0.0],\n",
       " [0, 0.0, 0.0, 0.0],\n",
       " [0, 0.0, 0.0, 0.0],\n",
       " [0, 0.0, 0.0, 0.0],\n",
       " [0, 0.0, 0.0, 0.0],\n",
       " [0, 0.0, 0.0, 0.0],\n",
       " [0, 0.0, 0.0, 0.0],\n",
       " [0, 0.0, 0.0, 0.0],\n",
       " [0, 0.0, 0.0, 0.0],\n",
       " [0, 0.0, 0.0, 0.0],\n",
       " [0, 0.0, 0.0, 0.0],\n",
       " [0, 0.0, 0.0, 0.0],\n",
       " [0, 0.0, 0.0, 0.0],\n",
       " [0, 0.0, 0.0, 0.0],\n",
       " [0, 0.0, 0.0, 0.0],\n",
       " [0, 0.0, 0.0, 0.0],\n",
       " [0, 0.0, 0.0, 0.0],\n",
       " [0, 0.0, 0.0, 0.0],\n",
       " [0, 0.0, 0.0, 0.0],\n",
       " [0, 0.0, 0.0, 0.0],\n",
       " [0, 0.0, 0.0, 0.0],\n",
       " [0, 0.0, 0.0, 0.0],\n",
       " [0, 0.0, 0.0, 0.0],\n",
       " [0, 0.0, 0.0, 0.0],\n",
       " [0, 0.0, 0.0, 0.0],\n",
       " [0, 0.0, 0.0, 0.0],\n",
       " [0, 0.0, 0.0, 0.0],\n",
       " [0, 0.0, 0.0, 0.0],\n",
       " [0, 0.0, 0.0, 0.0],\n",
       " [0, 0.0, 0.0, 0.0],\n",
       " [0, 0.0, 0.0, 0.0],\n",
       " [0, 0.0, 0.0, 0.0],\n",
       " [0, 0.0, 0.0, 0.0],\n",
       " [0, 0.0, 0.0, 0.0],\n",
       " [0, 0.0, 0.0, 0.0],\n",
       " [0, 0.0, 0.0, 0.0],\n",
       " [0, 0.0, 0.0, 0.0],\n",
       " [0, 0.0, 0.0, 0.0],\n",
       " [0, 0.0, 0.0, 0.0],\n",
       " [0, 0.0, 0.0, 0.0],\n",
       " [0, 0.0, 0.0, 0.0],\n",
       " [0, 0.0, 0.0, 0.0],\n",
       " [0, 0.0, 0.0, 0.0],\n",
       " [0, 0.0, 0.0, 0.0],\n",
       " [0, 0.0, 0.0, 0.0],\n",
       " [0, 0.0, 0.0, 0.0],\n",
       " [0, 0.0, 0.0, 0.0],\n",
       " [0, 0.0, 0.0, 0.0],\n",
       " [0, 0.0, 0.0, 0.0],\n",
       " [0, 0.0, 0.0, 0.0],\n",
       " [0, 0.0, 0.0, 0.0],\n",
       " [0, 0.0, 0.0, 0.0],\n",
       " [0, 0.0, 0.0, 0.0],\n",
       " [0, 0.0, 0.0, 0.0],\n",
       " [0, 0.0, 0.0, 0.0],\n",
       " [0, 0.0, 0.0, 0.0],\n",
       " [0, 0.0, 0.0, 0.0],\n",
       " [0, 0.0, 0.0, 0.0],\n",
       " [0, 0.0, 0.0, 0.0],\n",
       " [0, 0.0, 0.0, 0],\n",
       " [0, 0.0, 0, 0],\n",
       " [0, 0, 0, 0],\n",
       " [0, 0, 0, 0]]"
      ]
     },
     "execution_count": 248,
     "metadata": {},
     "output_type": "execute_result"
    }
   ],
   "source": [
    "b_spline_base(_x, 3895.0)"
   ]
  },
  {
   "cell_type": "code",
   "execution_count": 262,
   "metadata": {
    "scrolled": true
   },
   "outputs": [
    {
     "data": {
      "text/plain": [
       "[0.8613223396984837,\n",
       " 0.23452685943349322,\n",
       " 0.13945165623857314,\n",
       " 1.2491639496928224,\n",
       " 0.0,\n",
       " 0.0,\n",
       " 0.0,\n",
       " 0.0,\n",
       " 0.0,\n",
       " 0.0,\n",
       " 0.0,\n",
       " 0.0,\n",
       " 0.0,\n",
       " 0.0,\n",
       " 0.0,\n",
       " 0.0,\n",
       " 0.0,\n",
       " 0.0,\n",
       " 0.7065082075368598,\n",
       " 0.075083879111812,\n",
       " 0.1250668370184826,\n",
       " -0.46387395278466476,\n",
       " 0.2324867705071135,\n",
       " 0.11046661819368772,\n",
       " 0.11758539933217299,\n",
       " 0.09008185547707769,\n",
       " 0.13664938263868845,\n",
       " 0.09670639088904293,\n",
       " 0.11472106610266056,\n",
       " 0.09548290919830048,\n",
       " 0.10179482347601317,\n",
       " 0.09021489581965976,\n",
       " 0.10283111439285744,\n",
       " 0.08683829019389697,\n",
       " 0.08640554510836529,\n",
       " 0.08538745880740613,\n",
       " 0.08234677233415764,\n",
       " 0.08023440868792385,\n",
       " 0.0774668589943885,\n",
       " 0.07359809354781695,\n",
       " 0.07507187665359036,\n",
       " 0.07378719046841523,\n",
       " 0.08047251031183435,\n",
       " 0.07990496552489493,\n",
       " 0.08457720217044352,\n",
       " 0.09087825251210961,\n",
       " 0.09852691991908018,\n",
       " 0.09680045632540729,\n",
       " 0.10178405399597959,\n",
       " 0.11039758966083145,\n",
       " 0.11174452654469,\n",
       " 0.12045942104878904,\n",
       " 0.1280075567870646,\n",
       " 0.11852647004464038,\n",
       " 0.1307034152477861,\n",
       " 0.13013096948033434,\n",
       " 0.14962554952291895,\n",
       " 0.13121191863043893,\n",
       " 0.19447765150141502,\n",
       " 0.007306319301122425,\n",
       " 0.9368393935051417,\n",
       " 0.13143922366799501,\n",
       " 0.07196995934824278,\n",
       " 0.12235352874559896,\n",
       " 0.18150612777569014,\n",
       " 0.6247279739273913,\n",
       " 0.11047907071562368,\n",
       " 0.13910539504996025,\n",
       " 0.05717337547004646,\n",
       " 0.1928671589712961,\n",
       " 6.183923679150738,\n",
       " 0.0,\n",
       " 0.0,\n",
       " 0.0,\n",
       " 0.0,\n",
       " 0.0,\n",
       " 0.0,\n",
       " 0.9982970821673887,\n",
       " 0.0642889187601411,\n",
       " 0.26496254391237617]"
      ]
     },
     "execution_count": 262,
     "metadata": {},
     "output_type": "execute_result"
    }
   ],
   "source": [
    "aa"
   ]
  },
  {
   "cell_type": "code",
   "execution_count": 251,
   "metadata": {},
   "outputs": [],
   "source": [
    "xxx = list(np.linspace(3895.0, 4700.0, 100))"
   ]
  },
  {
   "cell_type": "code",
   "execution_count": 65,
   "metadata": {
    "scrolled": true
   },
   "outputs": [
    {
     "ename": "TypeError",
     "evalue": "'MLinExpr' object is not subscriptable",
     "output_type": "error",
     "traceback": [
      "\u001b[1;31m---------------------------------------------------------------------------\u001b[0m",
      "\u001b[1;31mTypeError\u001b[0m                                 Traceback (most recent call last)",
      "\u001b[1;32m<ipython-input-65-f9c36187135d>\u001b[0m in \u001b[0;36m<module>\u001b[1;34m\u001b[0m\n\u001b[1;32m----> 1\u001b[1;33m \u001b[0mminimize2D\u001b[0m\u001b[1;33m(\u001b[0m\u001b[0mimvol_list\u001b[0m\u001b[1;33m)\u001b[0m\u001b[1;33m\u001b[0m\u001b[1;33m\u001b[0m\u001b[0m\n\u001b[0m",
      "\u001b[1;32m<ipython-input-64-4475e63a1fcc>\u001b[0m in \u001b[0;36mminimize2D\u001b[1;34m(P)\u001b[0m\n\u001b[0;32m     10\u001b[0m     \u001b[0malpha\u001b[0m \u001b[1;33m=\u001b[0m \u001b[0mm\u001b[0m\u001b[1;33m.\u001b[0m\u001b[0maddMVar\u001b[0m\u001b[1;33m(\u001b[0m\u001b[0mlen\u001b[0m\u001b[1;33m(\u001b[0m\u001b[0m_x\u001b[0m\u001b[1;33m)\u001b[0m\u001b[1;33m,\u001b[0m \u001b[0mlb\u001b[0m\u001b[1;33m=\u001b[0m\u001b[1;33m-\u001b[0m\u001b[0mfloat\u001b[0m\u001b[1;33m(\u001b[0m\u001b[1;34m'inf'\u001b[0m\u001b[1;33m)\u001b[0m\u001b[1;33m,\u001b[0m \u001b[0mub\u001b[0m\u001b[1;33m=\u001b[0m\u001b[0mfloat\u001b[0m\u001b[1;33m(\u001b[0m\u001b[1;34m'inf'\u001b[0m\u001b[1;33m)\u001b[0m\u001b[1;33m,\u001b[0m \u001b[0mname\u001b[0m\u001b[1;33m=\u001b[0m\u001b[1;34m'alpha'\u001b[0m\u001b[1;33m)\u001b[0m\u001b[1;33m\u001b[0m\u001b[1;33m\u001b[0m\u001b[0m\n\u001b[0;32m     11\u001b[0m     \u001b[0my_hat\u001b[0m \u001b[1;33m=\u001b[0m \u001b[0malpha\u001b[0m\u001b[1;33m@\u001b[0m\u001b[0mnp\u001b[0m\u001b[1;33m.\u001b[0m\u001b[0marray\u001b[0m\u001b[1;33m(\u001b[0m\u001b[0mbases\u001b[0m\u001b[1;33m)\u001b[0m\u001b[1;33m.\u001b[0m\u001b[0mtranspose\u001b[0m\u001b[1;33m(\u001b[0m\u001b[1;33m)\u001b[0m\u001b[1;33m\u001b[0m\u001b[1;33m\u001b[0m\u001b[0m\n\u001b[1;32m---> 12\u001b[1;33m     \u001b[0mobj\u001b[0m \u001b[1;33m=\u001b[0m \u001b[0msum\u001b[0m\u001b[1;33m(\u001b[0m\u001b[1;33m(\u001b[0m\u001b[0m_y\u001b[0m\u001b[1;33m[\u001b[0m\u001b[0mi\u001b[0m\u001b[1;33m]\u001b[0m\u001b[1;33m-\u001b[0m\u001b[0my_hat\u001b[0m\u001b[1;33m[\u001b[0m\u001b[0mi\u001b[0m\u001b[1;33m]\u001b[0m\u001b[1;33m)\u001b[0m\u001b[1;33m**\u001b[0m\u001b[1;36m2\u001b[0m \u001b[1;32mfor\u001b[0m \u001b[0mi\u001b[0m \u001b[1;32min\u001b[0m \u001b[0mrange\u001b[0m\u001b[1;33m(\u001b[0m\u001b[0mn_P\u001b[0m\u001b[1;33m)\u001b[0m\u001b[1;33m)\u001b[0m\u001b[1;33m\u001b[0m\u001b[1;33m\u001b[0m\u001b[0m\n\u001b[0m\u001b[0;32m     13\u001b[0m     \u001b[0mm\u001b[0m\u001b[1;33m.\u001b[0m\u001b[0msetObjective\u001b[0m\u001b[1;33m(\u001b[0m\u001b[0mobj\u001b[0m\u001b[1;33m)\u001b[0m\u001b[1;33m\u001b[0m\u001b[1;33m\u001b[0m\u001b[0m\n\u001b[0;32m     14\u001b[0m     \u001b[0mm\u001b[0m\u001b[1;33m.\u001b[0m\u001b[0moptimize\u001b[0m\u001b[1;33m(\u001b[0m\u001b[1;33m)\u001b[0m\u001b[1;33m\u001b[0m\u001b[1;33m\u001b[0m\u001b[0m\n",
      "\u001b[1;32m<ipython-input-64-4475e63a1fcc>\u001b[0m in \u001b[0;36m<genexpr>\u001b[1;34m(.0)\u001b[0m\n\u001b[0;32m     10\u001b[0m     \u001b[0malpha\u001b[0m \u001b[1;33m=\u001b[0m \u001b[0mm\u001b[0m\u001b[1;33m.\u001b[0m\u001b[0maddMVar\u001b[0m\u001b[1;33m(\u001b[0m\u001b[0mlen\u001b[0m\u001b[1;33m(\u001b[0m\u001b[0m_x\u001b[0m\u001b[1;33m)\u001b[0m\u001b[1;33m,\u001b[0m \u001b[0mlb\u001b[0m\u001b[1;33m=\u001b[0m\u001b[1;33m-\u001b[0m\u001b[0mfloat\u001b[0m\u001b[1;33m(\u001b[0m\u001b[1;34m'inf'\u001b[0m\u001b[1;33m)\u001b[0m\u001b[1;33m,\u001b[0m \u001b[0mub\u001b[0m\u001b[1;33m=\u001b[0m\u001b[0mfloat\u001b[0m\u001b[1;33m(\u001b[0m\u001b[1;34m'inf'\u001b[0m\u001b[1;33m)\u001b[0m\u001b[1;33m,\u001b[0m \u001b[0mname\u001b[0m\u001b[1;33m=\u001b[0m\u001b[1;34m'alpha'\u001b[0m\u001b[1;33m)\u001b[0m\u001b[1;33m\u001b[0m\u001b[1;33m\u001b[0m\u001b[0m\n\u001b[0;32m     11\u001b[0m     \u001b[0my_hat\u001b[0m \u001b[1;33m=\u001b[0m \u001b[0malpha\u001b[0m\u001b[1;33m@\u001b[0m\u001b[0mnp\u001b[0m\u001b[1;33m.\u001b[0m\u001b[0marray\u001b[0m\u001b[1;33m(\u001b[0m\u001b[0mbases\u001b[0m\u001b[1;33m)\u001b[0m\u001b[1;33m.\u001b[0m\u001b[0mtranspose\u001b[0m\u001b[1;33m(\u001b[0m\u001b[1;33m)\u001b[0m\u001b[1;33m\u001b[0m\u001b[1;33m\u001b[0m\u001b[0m\n\u001b[1;32m---> 12\u001b[1;33m     \u001b[0mobj\u001b[0m \u001b[1;33m=\u001b[0m \u001b[0msum\u001b[0m\u001b[1;33m(\u001b[0m\u001b[1;33m(\u001b[0m\u001b[0m_y\u001b[0m\u001b[1;33m[\u001b[0m\u001b[0mi\u001b[0m\u001b[1;33m]\u001b[0m\u001b[1;33m-\u001b[0m\u001b[0my_hat\u001b[0m\u001b[1;33m[\u001b[0m\u001b[0mi\u001b[0m\u001b[1;33m]\u001b[0m\u001b[1;33m)\u001b[0m\u001b[1;33m**\u001b[0m\u001b[1;36m2\u001b[0m \u001b[1;32mfor\u001b[0m \u001b[0mi\u001b[0m \u001b[1;32min\u001b[0m \u001b[0mrange\u001b[0m\u001b[1;33m(\u001b[0m\u001b[0mn_P\u001b[0m\u001b[1;33m)\u001b[0m\u001b[1;33m)\u001b[0m\u001b[1;33m\u001b[0m\u001b[1;33m\u001b[0m\u001b[0m\n\u001b[0m\u001b[0;32m     13\u001b[0m     \u001b[0mm\u001b[0m\u001b[1;33m.\u001b[0m\u001b[0msetObjective\u001b[0m\u001b[1;33m(\u001b[0m\u001b[0mobj\u001b[0m\u001b[1;33m)\u001b[0m\u001b[1;33m\u001b[0m\u001b[1;33m\u001b[0m\u001b[0m\n\u001b[0;32m     14\u001b[0m     \u001b[0mm\u001b[0m\u001b[1;33m.\u001b[0m\u001b[0moptimize\u001b[0m\u001b[1;33m(\u001b[0m\u001b[1;33m)\u001b[0m\u001b[1;33m\u001b[0m\u001b[1;33m\u001b[0m\u001b[0m\n",
      "\u001b[1;31mTypeError\u001b[0m: 'MLinExpr' object is not subscriptable"
     ]
    }
   ],
   "source": [
    "minimize2D(imvol_list)"
   ]
  },
  {
   "cell_type": "code",
   "execution_count": 324,
   "metadata": {},
   "outputs": [
    {
     "data": {
      "text/plain": [
       "80"
      ]
     },
     "execution_count": 324,
     "metadata": {},
     "output_type": "execute_result"
    }
   ],
   "source": [
    "len(bases)"
   ]
  },
  {
   "cell_type": "code",
   "execution_count": 453,
   "metadata": {},
   "outputs": [],
   "source": [
    "today = date(2021, 6, 4)\n",
    "expir = date(2021, 6, 11)\n",
    "tau = BS_functions.cal_tau(today, expir)"
   ]
  },
  {
   "cell_type": "code",
   "execution_count": 455,
   "metadata": {},
   "outputs": [],
   "source": [
    "rf_rate = BS_functions.get_risk_free()"
   ]
  },
  {
   "cell_type": "code",
   "execution_count": 468,
   "metadata": {},
   "outputs": [
    {
     "data": {
      "text/plain": [
       "(84,)"
      ]
     },
     "execution_count": 468,
     "metadata": {},
     "output_type": "execute_result"
    }
   ],
   "source": [
    "bases[0].shape"
   ]
  },
  {
   "cell_type": "code",
   "execution_count": 523,
   "metadata": {
    "scrolled": true
   },
   "outputs": [
    {
     "name": "stdout",
     "output_type": "stream",
     "text": [
      "Warning for adding constraints: zero or small (< 1e-13) coefficients, ignored\n",
      "Gurobi Optimizer version 9.1.1 build v9.1.1rc0 (win64)\n",
      "Thread count: 6 physical cores, 12 logical processors, using up to 12 threads\n",
      "Optimize a model with 2996 rows, 105 columns and 12368 nonzeros\n",
      "Model fingerprint: 0x2749294e\n",
      "Model has 204 quadratic objective terms\n",
      "Coefficient statistics:\n",
      "  Matrix range     [5e-11, 7e-02]\n",
      "  Objective range  [2e-02, 4e+03]\n",
      "  QObjective range [6e-09, 7e+00]\n",
      "  Bounds range     [0e+00, 0e+00]\n",
      "  RHS range        [1e+00, 1e+00]\n",
      "Presolve removed 999 rows and 4 columns\n",
      "Presolve time: 0.01s\n",
      "Presolved: 1997 rows, 1100 columns, 9275 nonzeros\n",
      "Presolved model has 204 quadratic objective terms\n",
      "Ordering time: 0.00s\n",
      "\n",
      "Barrier statistics:\n",
      " Dense cols : 99\n",
      " Free vars  : 130\n",
      " AA' NZ     : 9.091e+03\n",
      " Factor NZ  : 1.304e+04 (roughly 1 MByte of memory)\n",
      " Factor Ops : 1.169e+05 (less than 1 second per iteration)\n",
      " Threads    : 1\n",
      "\n",
      "                  Objective                Residual\n",
      "Iter       Primal          Dual         Primal    Dual     Compl     Time\n",
      "   0   1.24524559e+07  1.14534559e+07  1.00e+03 4.40e+03  1.00e+06     0s\n",
      "   1   1.52953058e+06  2.74475239e+06  2.37e+02 8.81e+02  2.08e+05     0s\n",
      "   2   1.33792212e+06 -1.51280745e+06  5.95e+01 1.34e+02  4.24e+04     0s\n",
      "   3   7.84336585e+05 -1.61773530e+06  9.10e+00 2.01e+01  8.13e+03     0s\n",
      "   4   5.49329358e+05 -1.05001262e+06  1.41e+00 3.12e+00  1.69e+03     0s\n",
      "   5   5.89661608e+05 -1.53725636e+05  2.59e-01 5.80e-01  4.19e+02     0s\n",
      "   6   6.02020924e+05  3.37334179e+05  5.67e-02 1.32e-01  1.20e+02     0s\n",
      "   7   5.96704736e+05  5.51916369e+05  6.14e-08 1.52e-05  1.49e+01     0s\n",
      "   8   5.89081877e+05  5.82620639e+05  1.30e-08 1.02e-06  2.16e+00     0s\n",
      "   9   5.87536177e+05  5.86155088e+05  1.46e-10 1.18e-08  4.61e-01     0s\n",
      "  10   5.87164325e+05  5.86882981e+05  2.73e-12 1.92e-10  9.39e-02     0s\n",
      "  11   5.87090694e+05  5.87049368e+05  1.09e-10 2.68e-09  1.38e-02     0s\n",
      "  12   5.87079627e+05  5.87071200e+05  9.09e-13 1.21e-11  2.81e-03     0s\n",
      "  13   5.87076958e+05  5.87076720e+05  4.99e-11 1.01e-08  7.94e-05     0s\n",
      "  14   5.87076876e+05  5.87076841e+05  2.22e-12 1.84e-09  1.19e-05     0s\n",
      "  15   5.87076868e+05  5.87076856e+05  1.14e-13 1.55e-10  3.83e-06     0s\n",
      "  16   5.87076865e+05  5.87076864e+05  1.82e-12 3.54e-11  4.91e-07     0s\n",
      "  17   5.87076865e+05  5.87076864e+05  9.09e-13 2.11e-09  2.97e-07     0s\n",
      "\n",
      "Barrier solved model in 17 iterations and 0.04 seconds\n",
      "Optimal objective 5.87076865e+05\n",
      "\n"
     ]
    }
   ],
   "source": [
    "P = imvol_list\n",
    "_x, _y = list(zip(*P))\n",
    "#bases = get_bases(_x)\n",
    "#bases = np.array(bases)\n",
    "bases = [b_spline_base(_x, i) for i in _x]\n",
    "bases = np.array(bases)\n",
    "S = 4229.89 #2021-06-04 close\n",
    "\n",
    "m = gp.Model()\n",
    "n_P = len(P)\n",
    "n_K = n_P+3+1\n",
    "max_x = max(_x)\n",
    "_y = np.array(_y)\n",
    "\n",
    "x_c = np.linspace(_x[0], _x[-1], 1000)\n",
    "c_bases = [b_spline_base(_x, i) for i in x_c]\n",
    "\n",
    "alpha = m.addMVar(len(bases[0]), lb=-GRB.INFINITY, ub = GRB.INFINITY, name='alpha')\n",
    "#obj = sum((_y[i] - sum(alpha[j]*bases[i][j] for j in range(n_P)))*\\\n",
    "#          (_y[i] - sum(alpha[j]*bases[i][j] for j in range(n_P))) for i in range(n_P))\n",
    "#y_hat = alpha@np.array(bases).transpose()\n",
    "#obj = _y@_y -2*v@_y+ alpha@bases@alpha@bases\n",
    "\n",
    "BB = bases.transpose()@bases\n",
    "v = -2*bases.transpose() @_y\n",
    "D = np.diff(np.eye(len(_y)), 2).transpose()\n",
    "lam = 0.1\n",
    "dev = lam*bases.transpose()@D.transpose()@D@bases\n",
    "obj = _y@_y + alpha@v+ alpha@BB@alpha + alpha@dev@alpha\n",
    "m.setObjective(obj)\n",
    "\n",
    "c_bases = np.array(c_bases)\n",
    "y_hat = c_bases@alpha\n",
    "#call_hat = [BS_functions.BS_call(S, x_c[i], tau, y_hat[i], rf_free) for i in range(len(y_hat))]\n",
    "\n",
    "D1 = np.diff(np.eye(len(x_c)), 1).transpose()\n",
    "D2 = np.diff(np.eye(len(x_c)), 2).transpose()\n",
    "\n",
    "#first derivative constr\n",
    "D1_C = D1@c_bases\n",
    "m.addConstrs(D1_C[i]@alpha<=0 for i in range(D1.shape[0]))\n",
    "\n",
    "D1_C_d = -D1@c_bases/(x_c[2]-x_c[1])\n",
    "m.addConstrs(D1_C_d[i]@alpha-1<=0 for i in range(D1.shape[0]))\n",
    "\n",
    "D2_C = -D2@c_bases\n",
    "m.addConstrs(D2_C[i]@alpha<=0 for i in range(D2.shape[0]))\n",
    "\n",
    "m.optimize()\n",
    "#obj = x@x\n",
    "\n",
    "\n",
    "#y_hat = alpha[i]@np.array(bases).transpose()\n",
    "#print(y_hat)\n",
    "#obj = sum((_y[i]-y_hat[i])**2 for i in range(n_P))\n",
    "                  \n",
    "#m.setObjective(obj)\n",
    "#m.optimize()"
   ]
  },
  {
   "cell_type": "code",
   "execution_count": 531,
   "metadata": {},
   "outputs": [
    {
     "data": {
      "text/plain": [
       "array([[ 1., -2.,  1.]])"
      ]
     },
     "execution_count": 531,
     "metadata": {},
     "output_type": "execute_result"
    }
   ],
   "source": [
    "np.diff(np.eye(3), 2).transpose()"
   ]
  },
  {
   "cell_type": "code",
   "execution_count": null,
   "metadata": {},
   "outputs": [],
   "source": [
    "D1_C"
   ]
  },
  {
   "cell_type": "code",
   "execution_count": 472,
   "metadata": {},
   "outputs": [
    {
     "data": {
      "text/plain": [
       "(1000, 84)"
      ]
     },
     "execution_count": 472,
     "metadata": {},
     "output_type": "execute_result"
    }
   ],
   "source": [
    "np.array(c_bases).shape"
   ]
  },
  {
   "cell_type": "code",
   "execution_count": 463,
   "metadata": {},
   "outputs": [],
   "source": [
    "c_bases = np.array(c_bases)"
   ]
  },
  {
   "cell_type": "code",
   "execution_count": 465,
   "metadata": {},
   "outputs": [
    {
     "data": {
      "text/plain": [
       "(1000, 1004)"
      ]
     },
     "execution_count": 465,
     "metadata": {},
     "output_type": "execute_result"
    }
   ],
   "source": [
    "c_bases.shape"
   ]
  },
  {
   "cell_type": "code",
   "execution_count": 372,
   "metadata": {},
   "outputs": [],
   "source": [
    "bases = [b_spline_base(_x, i) for i in _x]"
   ]
  },
  {
   "cell_type": "code",
   "execution_count": 375,
   "metadata": {},
   "outputs": [
    {
     "data": {
      "text/plain": [
       "(80, 84)"
      ]
     },
     "execution_count": 375,
     "metadata": {},
     "output_type": "execute_result"
    }
   ],
   "source": [
    "np.array(bases).shape"
   ]
  },
  {
   "cell_type": "code",
   "execution_count": 398,
   "metadata": {},
   "outputs": [
    {
     "data": {
      "text/plain": [
       "0.017864045762893577"
      ]
     },
     "execution_count": 398,
     "metadata": {},
     "output_type": "execute_result"
    }
   ],
   "source": [
    "m.ObjVal"
   ]
  },
  {
   "cell_type": "code",
   "execution_count": null,
   "metadata": {},
   "outputs": [],
   "source": []
  },
  {
   "cell_type": "code",
   "execution_count": 308,
   "metadata": {},
   "outputs": [
    {
     "data": {
      "text/plain": [
       "array([0.17171544, 0.85748982, 0.82493572, 0.14585902, 0.        ,\n",
       "       0.        , 0.        , 0.        , 0.        , 0.        ,\n",
       "       0.        , 0.        , 0.        , 0.        , 0.        ,\n",
       "       0.        , 0.        , 0.        , 0.09395633, 0.63905098,\n",
       "       0.266116  , 0.14673571, 0.85516835, 1.56812142, 2.06724473,\n",
       "       2.09090162, 2.09090162, 2.09090162, 2.09090162, 2.09090162,\n",
       "       2.09090162, 2.09090162, 2.09090162, 2.09091532, 2.09095641,\n",
       "       2.09091532, 2.09090162, 2.09090162, 2.09090162, 2.09090162,\n",
       "       2.09090162, 2.09090162, 2.09090162, 2.09090162, 2.09091532,\n",
       "       2.09095641, 2.09091532, 2.09090162, 2.09090162, 2.09090162,\n",
       "       2.09090162, 2.09090162, 2.08091559, 1.68198132, 1.52916358,\n",
       "       1.58786061, 1.56812142, 1.29733432, 0.40337251, 0.65076299,\n",
       "       0.17688556, 0.60749021, 0.32926495, 0.38298951, 0.5667242 ,\n",
       "       0.19209063, 0.6648174 , 0.21940495, 0.51873921, 0.43748116,\n",
       "       0.01369825, 0.        , 0.        , 0.        , 0.        ,\n",
       "       0.        , 0.        , 0.16172941, 0.66656926, 0.17170133])"
      ]
     },
     "execution_count": 308,
     "metadata": {},
     "output_type": "execute_result"
    }
   ],
   "source": [
    "np.array(bases).transpose()@np.ones(80)"
   ]
  },
  {
   "cell_type": "code",
   "execution_count": 309,
   "metadata": {},
   "outputs": [
    {
     "data": {
      "text/plain": [
       "array([1., 1., 1., 1., 1., 1., 1., 1., 1., 1., 1., 1., 1., 1., 1., 1., 1.,\n",
       "       1., 1., 1., 1., 1., 1., 1., 1., 1., 1., 1., 1., 1., 1., 1., 1., 1.,\n",
       "       1., 1., 1., 1., 1., 1., 1., 1., 1., 1., 1., 1., 1., 1., 1., 1., 1.,\n",
       "       1., 1., 1., 1., 1., 1., 1., 1., 1., 1., 1., 1., 1., 1., 1., 1., 1.,\n",
       "       1., 1., 1., 1., 1., 1., 1., 1., 1., 1., 1., 1.])"
      ]
     },
     "execution_count": 309,
     "metadata": {},
     "output_type": "execute_result"
    }
   ],
   "source": [
    "np.array(bases)@np.ones(80)"
   ]
  },
  {
   "cell_type": "code",
   "execution_count": 245,
   "metadata": {},
   "outputs": [],
   "source": [
    "bases = get_bases(_x)"
   ]
  },
  {
   "cell_type": "code",
   "execution_count": 330,
   "metadata": {},
   "outputs": [],
   "source": [
    "bases = [b_spline_base(_x, i) for i in _x]"
   ]
  },
  {
   "cell_type": "code",
   "execution_count": 331,
   "metadata": {},
   "outputs": [],
   "source": [
    "BB = np.array(bases)"
   ]
  },
  {
   "cell_type": "code",
   "execution_count": 332,
   "metadata": {},
   "outputs": [
    {
     "data": {
      "text/plain": [
       "(80, 84)"
      ]
     },
     "execution_count": 332,
     "metadata": {},
     "output_type": "execute_result"
    }
   ],
   "source": [
    "BB.shape"
   ]
  },
  {
   "cell_type": "code",
   "execution_count": 511,
   "metadata": {
    "scrolled": true
   },
   "outputs": [
    {
     "name": "stdout",
     "output_type": "stream",
     "text": [
      "alpha[0] 3262.821269701569\n",
      "alpha[1] 3225.569569020635\n",
      "alpha[2] 3188.066167660989\n",
      "alpha[3] 3150.3110656216627\n",
      "alpha[4] 3112.5559635828113\n",
      "alpha[5] 3074.8008615443596\n",
      "alpha[6] 3037.045759506274\n",
      "alpha[7] 2999.290657468517\n",
      "alpha[8] 2961.5355554310727\n",
      "alpha[9] 2923.780453393928\n",
      "alpha[10] 2886.0253513570765\n",
      "alpha[11] 2848.2702493205084\n",
      "alpha[12] 2810.5151472842117\n",
      "alpha[13] 2772.760045248179\n",
      "alpha[14] 2735.004943212412\n",
      "alpha[15] 2697.249841176903\n",
      "alpha[16] 2659.494739141649\n",
      "alpha[17] 2621.7396371066466\n",
      "alpha[18] 2583.9845350718965\n",
      "alpha[19] 2546.229433037402\n",
      "alpha[20] 2508.474331003158\n",
      "alpha[21] 2470.719228969157\n",
      "alpha[22] 2432.964126935408\n",
      "alpha[23] 2395.2090249018997\n",
      "alpha[24] 2357.4539228686435\n",
      "alpha[25] 2319.698820835636\n",
      "alpha[26] 2281.9437188028746\n",
      "alpha[27] 2244.1886167703647\n",
      "alpha[28] 2206.4335147381007\n",
      "alpha[29] 2168.678412706087\n",
      "alpha[30] 2130.9233106743204\n",
      "alpha[31] 2093.1682086428086\n",
      "alpha[32] 2055.4131066115538\n",
      "alpha[33] 2017.6580045805565\n",
      "alpha[34] 1979.9029025498019\n",
      "alpha[35] 1942.1478005192482\n",
      "alpha[36] 1904.3926984889752\n",
      "alpha[37] 1866.6375964589663\n",
      "alpha[38] 1828.8824944292305\n",
      "alpha[39] 1791.1273923997624\n",
      "alpha[40] 1753.3722903705718\n",
      "alpha[41] 1715.6171883416584\n",
      "alpha[42] 1677.8620863130254\n",
      "alpha[43] 1640.1069842846812\n",
      "alpha[44] 1602.3518822566284\n",
      "alpha[45] 1564.5967802288721\n",
      "alpha[46] 1526.8416782014222\n",
      "alpha[47] 1489.0865761742807\n",
      "alpha[48] 1451.3314741474555\n",
      "alpha[49] 1413.5763721209526\n",
      "alpha[50] 1375.821270094778\n",
      "alpha[51] 1338.066168068937\n",
      "alpha[52] 1300.3110660434434\n",
      "alpha[53] 1262.5559640183014\n",
      "alpha[54] 1224.8008619935201\n",
      "alpha[55] 1187.0457599691083\n",
      "alpha[56] 1149.2906579450785\n",
      "alpha[57] 1111.5355559214402\n",
      "alpha[58] 1073.7804538982132\n",
      "alpha[59] 1036.0253518754068\n",
      "alpha[60] 998.2702498530358\n",
      "alpha[61] 960.5151478311157\n",
      "alpha[62] 922.7600458096657\n",
      "alpha[63] 885.0049437887013\n",
      "alpha[64] 847.2498417682422\n",
      "alpha[65] 809.4947397483197\n",
      "alpha[66] 771.7396377289361\n",
      "alpha[67] 733.9845357102178\n",
      "alpha[68] 696.2294336921445\n",
      "alpha[69] 658.4743316747262\n",
      "alpha[70] 620.7192296580106\n",
      "alpha[71] 582.9641276420552\n",
      "alpha[72] 545.2090256272173\n",
      "alpha[73] 507.4539236144367\n",
      "alpha[74] 469.69882160837926\n",
      "alpha[75] 431.9437196726375\n",
      "alpha[76] 394.1886177401667\n",
      "alpha[77] 356.4335158100161\n",
      "alpha[78] 318.67841388066023\n",
      "alpha[79] 280.9233119520053\n",
      "alpha[80] 243.16821002466997\n",
      "alpha[81] 205.4131081014704\n",
      "alpha[82] 167.96862916798702\n",
      "alpha[83] 131.15467925164748\n",
      "alpha[84] 97.88075334047193\n",
      "alpha[85] 64.51350106803729\n",
      "alpha[86] 32.367515682830245\n",
      "alpha[87] 10.870817738157507\n",
      "alpha[88] 0.8388991697413773\n",
      "alpha[89] 0.36205986357824693\n",
      "alpha[90] 0.13054741218716853\n",
      "alpha[91] 0.10276884006599987\n",
      "alpha[92] 0.07468870945707368\n",
      "alpha[93] 0.04828941123860249\n",
      "alpha[94] 0.048285955447565275\n",
      "alpha[95] 0.04828277520263733\n",
      "alpha[96] 0.04828027275818586\n",
      "alpha[97] 0.04827820850908782\n",
      "alpha[98] 0.048276682923973566\n",
      "alpha[99] 0.048275779189667516\n",
      "alpha[100] 0.04827636780887243\n",
      "alpha[101] 0.0\n",
      "alpha[102] 0.0\n",
      "alpha[103] 0.0\n",
      "alpha[104] 0.0\n"
     ]
    }
   ],
   "source": [
    "for v in m.getVars():\n",
    "    print(v.varName, v.x)"
   ]
  },
  {
   "cell_type": "code",
   "execution_count": 517,
   "metadata": {},
   "outputs": [],
   "source": [
    "aa = [v.x for v in m.getVars()]"
   ]
  },
  {
   "cell_type": "code",
   "execution_count": 518,
   "metadata": {},
   "outputs": [],
   "source": [
    "bases = [b_spline_base(_x, i) for i in _x]\n",
    "BB = np.array(bases)"
   ]
  },
  {
   "cell_type": "code",
   "execution_count": 416,
   "metadata": {
    "scrolled": true
   },
   "outputs": [
    {
     "data": {
      "text/plain": [
       "(3895.0,\n",
       " 3905.0,\n",
       " 4085.0,\n",
       " 4115.0,\n",
       " 4125.0,\n",
       " 4130.0,\n",
       " 4135.0,\n",
       " 4140.0,\n",
       " 4145.0,\n",
       " 4150.0,\n",
       " 4155.0,\n",
       " 4160.0,\n",
       " 4165.0,\n",
       " 4170.0,\n",
       " 4175.0,\n",
       " 4180.0,\n",
       " 4185.0,\n",
       " 4190.0,\n",
       " 4195.0,\n",
       " 4200.0,\n",
       " 4205.0,\n",
       " 4210.0,\n",
       " 4215.0,\n",
       " 4220.0,\n",
       " 4225.0,\n",
       " 4230.0,\n",
       " 4235.0,\n",
       " 4240.0,\n",
       " 4245.0,\n",
       " 4250.0,\n",
       " 4255.0,\n",
       " 4260.0,\n",
       " 4265.0,\n",
       " 4270.0,\n",
       " 4275.0,\n",
       " 4280.0,\n",
       " 4285.0,\n",
       " 4290.0,\n",
       " 4295.0,\n",
       " 4300.0,\n",
       " 4305.0,\n",
       " 4310.0,\n",
       " 4315.0,\n",
       " 4320.0,\n",
       " 4325.0,\n",
       " 4330.0,\n",
       " 4335.0,\n",
       " 4340.0,\n",
       " 4345.0,\n",
       " 4350.0,\n",
       " 4355.0,\n",
       " 4360.0,\n",
       " 4365.0,\n",
       " 4370.0,\n",
       " 4375.0,\n",
       " 4380.0,\n",
       " 4385.0,\n",
       " 4390.0,\n",
       " 4395.0,\n",
       " 4400.0,\n",
       " 4405.0,\n",
       " 4410.0,\n",
       " 4415.0,\n",
       " 4420.0,\n",
       " 4425.0,\n",
       " 4430.0,\n",
       " 4435.0,\n",
       " 4440.0,\n",
       " 4450.0,\n",
       " 4455.0,\n",
       " 4460.0,\n",
       " 4470.0,\n",
       " 4475.0,\n",
       " 4480.0,\n",
       " 4500.0,\n",
       " 4525.0,\n",
       " 4550.0,\n",
       " 4575.0,\n",
       " 4600.0,\n",
       " 4700.0)"
      ]
     },
     "execution_count": 416,
     "metadata": {},
     "output_type": "execute_result"
    }
   ],
   "source": [
    "_x"
   ]
  },
  {
   "cell_type": "code",
   "execution_count": 417,
   "metadata": {
    "scrolled": true
   },
   "outputs": [
    {
     "data": {
      "text/plain": [
       "[0.20224340064611956,\n",
       " 0.22670908648537888,\n",
       " 0.1533412656709903,\n",
       " 0.37200895034618975,\n",
       " 0.0,\n",
       " 0.0,\n",
       " 0.0,\n",
       " 0.0,\n",
       " 0.0,\n",
       " 0.0,\n",
       " 0.0,\n",
       " 0.0,\n",
       " 0.0,\n",
       " 0.0,\n",
       " 0.0,\n",
       " 0.0,\n",
       " 0.0,\n",
       " 0.0,\n",
       " 0.4551243642033513,\n",
       " 0.1934726548826307,\n",
       " 0.08056660698906143,\n",
       " 0.13786931335085623,\n",
       " 0.18872643219799384,\n",
       " 0.1661383001493637,\n",
       " 0.14662006671444527,\n",
       " 0.13075251511478206,\n",
       " 0.11846939227925,\n",
       " 0.10915450601479548,\n",
       " 0.10224823199849267,\n",
       " 0.0971533506962958,\n",
       " 0.09336673726121124,\n",
       " 0.09044860181992975,\n",
       " 0.08804519270704975,\n",
       " 0.0858837259340963,\n",
       " 0.08387864517163592,\n",
       " 0.0820169505333519,\n",
       " 0.08032510109282474,\n",
       " 0.07889019276937151,\n",
       " 0.07783949139253005,\n",
       " 0.07732396768840823,\n",
       " 0.07748130685649844,\n",
       " 0.07839339814466223,\n",
       " 0.08008202636630535,\n",
       " 0.08250535457381526,\n",
       " 0.0856023995136732,\n",
       " 0.0892794497626482,\n",
       " 0.09341977865479706,\n",
       " 0.09795245088625663,\n",
       " 0.10284701026595466,\n",
       " 0.10815136359006727,\n",
       " 0.1136672225826048,\n",
       " 0.11989034289248145,\n",
       " 0.125376495910713,\n",
       " 0.13418455948402863,\n",
       " 0.13416664417994936,\n",
       " 0.14489297967559073,\n",
       " 0.14520882395231577,\n",
       " 0.15900876452743407,\n",
       " 0.16303374862949604,\n",
       " 0.057918911610085305,\n",
       " 0.7821184553084958,\n",
       " 0.08931200637563405,\n",
       " 0.18948811930591947,\n",
       " 0.12875820798628573,\n",
       " 0.15055849764676285,\n",
       " 0.8416376080344062,\n",
       " 0.06334145299006548,\n",
       " 0.08448534429859243,\n",
       " 0.05316749558291321,\n",
       " 0.17935656635135044,\n",
       " 5.75073167838296,\n",
       " 0.0,\n",
       " 0.0,\n",
       " 0.0,\n",
       " 0.0,\n",
       " 0.0,\n",
       " 0.0,\n",
       " 0.5116394853201727,\n",
       " 0.13179543579421785,\n",
       " 0.1357965552309076,\n",
       " 0.0,\n",
       " 0.0,\n",
       " 0.0,\n",
       " 0.0]"
      ]
     },
     "execution_count": 417,
     "metadata": {},
     "output_type": "execute_result"
    }
   ],
   "source": [
    "aa"
   ]
  },
  {
   "cell_type": "code",
   "execution_count": 452,
   "metadata": {
    "scrolled": true
   },
   "outputs": [
    {
     "data": {
      "text/plain": [
       "array([3.2271e+03, 6.2885e+02, 5.2370e+02, 4.7171e+02, 3.8596e+02,\n",
       "       3.5405e+02, 3.3738e+02, 3.2239e+02, 3.2743e+02, 2.4144e+02,\n",
       "       2.2241e+02, 2.1904e+02, 1.9904e+02, 1.9500e+02, 1.7944e+02,\n",
       "       1.6366e+02, 1.5121e+02, 1.4730e+02, 1.4642e+02, 1.3221e+02,\n",
       "       1.3227e+02, 1.2933e+02, 1.1613e+02, 1.1570e+02, 1.0920e+02,\n",
       "       1.0783e+02, 1.0220e+02, 9.6400e+01, 9.2600e+01, 8.6750e+01,\n",
       "       8.2310e+01, 8.2100e+01, 7.4100e+01, 7.0000e+01, 6.5950e+01,\n",
       "       6.1300e+01, 5.7300e+01, 5.2320e+01, 4.8780e+01, 4.4500e+01,\n",
       "       4.0400e+01, 3.7290e+01, 3.3700e+01, 2.9700e+01, 2.9300e+01,\n",
       "       2.3900e+01, 2.0930e+01, 1.7880e+01, 1.5380e+01, 1.3600e+01,\n",
       "       1.1600e+01, 9.5000e+00, 7.7000e+00, 6.9000e+00, 5.1500e+00,\n",
       "       4.0700e+00, 3.1000e+00, 2.5500e+00, 1.7300e+00, 1.3300e+00,\n",
       "       1.0000e+00, 8.4000e-01, 6.0000e-01, 5.0000e-01, 4.2000e-01,\n",
       "       4.0000e-01, 3.0000e-01, 2.5000e-01, 2.0000e-01, 2.0000e-01,\n",
       "       1.8000e-01, 2.5000e-01, 1.5000e-01, 1.5000e-01, 2.5000e-01,\n",
       "       9.0000e-02, 1.0000e-01, 1.0000e-01, 1.0000e-01, 1.5000e-01,\n",
       "       7.0000e-02, 1.0000e-01, 1.0000e-01, 1.0000e-01, 1.0000e-01,\n",
       "       1.0000e-01, 1.0000e-01, 5.0000e-02, 5.0000e-02, 5.0000e-02,\n",
       "       5.0000e-02, 5.0000e-02, 7.0000e-02, 5.0000e-02, 5.0000e-02,\n",
       "       5.0000e-02, 5.0000e-02, 5.0000e-02, 5.0000e-02, 5.0000e-02,\n",
       "       5.0000e-02])"
      ]
     },
     "execution_count": 452,
     "metadata": {},
     "output_type": "execute_result"
    }
   ],
   "source": [
    "_y"
   ]
  },
  {
   "cell_type": "code",
   "execution_count": 527,
   "metadata": {},
   "outputs": [],
   "source": [
    "xxx, yyy = [],[]\n",
    "for x in np.linspace(_x[0], _x[-1], 10000):\n",
    "#for x in _x:\n",
    "#for x in np.linspace(1000, 3000, 1000):\n",
    "    xxx.append(x)\n",
    "    yyy.append(b_spline_base(_x, x)@np.array(aa))"
   ]
  },
  {
   "cell_type": "code",
   "execution_count": 529,
   "metadata": {},
   "outputs": [
    {
     "data": {
      "text/plain": [
       "<matplotlib.collections.PathCollection at 0x15a9cc86bb0>"
      ]
     },
     "execution_count": 529,
     "metadata": {},
     "output_type": "execute_result"
    },
    {
     "data": {
      "image/png": "[encoded data removed]",
      "text/plain": [
       "<Figure size 432x288 with 1 Axes>"
      ]
     },
     "metadata": {
      "needs_background": "light"
     },
     "output_type": "display_data"
    }
   ],
   "source": [
    "plt.plot(xxx, yyy)\n",
    "plt.scatter(_x, _y)"
   ]
  },
  {
   "cell_type": "code",
   "execution_count": 512,
   "metadata": {
    "scrolled": true
   },
   "outputs": [
    {
     "data": {
      "text/plain": [
       "(1000.0,\n",
       " 3600.0,\n",
       " 3700.0,\n",
       " 3750.0,\n",
       " 3835.0,\n",
       " 3875.0,\n",
       " 3895.0,\n",
       " 3900.0,\n",
       " 3905.0,\n",
       " 3980.0,\n",
       " 4000.0,\n",
       " 4010.0,\n",
       " 4025.0,\n",
       " 4030.0,\n",
       " 4050.0,\n",
       " 4060.0,\n",
       " 4075.0,\n",
       " 4080.0,\n",
       " 4085.0,\n",
       " 4090.0,\n",
       " 4095.0,\n",
       " 4100.0,\n",
       " 4110.0,\n",
       " 4115.0,\n",
       " 4120.0,\n",
       " 4125.0,\n",
       " 4130.0,\n",
       " 4135.0,\n",
       " 4140.0,\n",
       " 4145.0,\n",
       " 4150.0,\n",
       " 4155.0,\n",
       " 4160.0,\n",
       " 4165.0,\n",
       " 4170.0,\n",
       " 4175.0,\n",
       " 4180.0,\n",
       " 4185.0,\n",
       " 4190.0,\n",
       " 4195.0,\n",
       " 4200.0,\n",
       " 4205.0,\n",
       " 4210.0,\n",
       " 4215.0,\n",
       " 4220.0,\n",
       " 4225.0,\n",
       " 4230.0,\n",
       " 4235.0,\n",
       " 4240.0,\n",
       " 4245.0,\n",
       " 4250.0,\n",
       " 4255.0,\n",
       " 4260.0,\n",
       " 4265.0,\n",
       " 4270.0,\n",
       " 4275.0,\n",
       " 4280.0,\n",
       " 4285.0,\n",
       " 4290.0,\n",
       " 4295.0,\n",
       " 4300.0,\n",
       " 4305.0,\n",
       " 4310.0,\n",
       " 4315.0,\n",
       " 4320.0,\n",
       " 4325.0,\n",
       " 4330.0,\n",
       " 4335.0,\n",
       " 4340.0,\n",
       " 4345.0,\n",
       " 4350.0,\n",
       " 4355.0,\n",
       " 4360.0,\n",
       " 4365.0,\n",
       " 4370.0,\n",
       " 4375.0,\n",
       " 4380.0,\n",
       " 4385.0,\n",
       " 4390.0,\n",
       " 4395.0,\n",
       " 4400.0,\n",
       " 4405.0,\n",
       " 4410.0,\n",
       " 4415.0,\n",
       " 4420.0,\n",
       " 4425.0,\n",
       " 4430.0,\n",
       " 4435.0,\n",
       " 4440.0,\n",
       " 4450.0,\n",
       " 4455.0,\n",
       " 4460.0,\n",
       " 4470.0,\n",
       " 4475.0,\n",
       " 4480.0,\n",
       " 4500.0,\n",
       " 4525.0,\n",
       " 4550.0,\n",
       " 4575.0,\n",
       " 4600.0,\n",
       " 4700.0)"
      ]
     },
     "execution_count": 512,
     "metadata": {},
     "output_type": "execute_result"
    }
   ],
   "source": [
    "_x"
   ]
  },
  {
   "cell_type": "code",
   "execution_count": 502,
   "metadata": {},
   "outputs": [
    {
     "data": {
      "text/plain": [
       "[<matplotlib.lines.Line2D at 0x15a9b600820>]"
      ]
     },
     "execution_count": 502,
     "metadata": {},
     "output_type": "execute_result"
    },
    {
     "data": {
      "image/png": "[encoded data removed]",
      "text/plain": [
       "<Figure size 432x288 with 1 Axes>"
      ]
     },
     "metadata": {
      "needs_background": "light"
     },
     "output_type": "display_data"
    }
   ],
   "source": [
    "plt.plot(_x, _y)"
   ]
  },
  {
   "cell_type": "code",
   "execution_count": 369,
   "metadata": {},
   "outputs": [
    {
     "data": {
      "text/plain": [
       "(80, 79)"
      ]
     },
     "execution_count": 369,
     "metadata": {},
     "output_type": "execute_result"
    }
   ],
   "source": [
    "D = np.diff(np.eye(len(_y)))"
   ]
  },
  {
   "cell_type": "code",
   "execution_count": 211,
   "metadata": {},
   "outputs": [],
   "source": [
    "yy = aa @np.array(bb).transpose()"
   ]
  },
  {
   "cell_type": "code",
   "execution_count": 241,
   "metadata": {},
   "outputs": [
    {
     "data": {
      "text/plain": [
       "20"
      ]
     },
     "execution_count": 241,
     "metadata": {},
     "output_type": "execute_result"
    }
   ],
   "source": [
    "len(points)"
   ]
  },
  {
   "cell_type": "code",
   "execution_count": 242,
   "metadata": {},
   "outputs": [],
   "source": [
    "xxx, yyy = [],[]\n",
    "for i in range(80):\n",
    "    for j in range(20):\n",
    "        xxx.append(points[j][0][i])\n",
    "        yyy.append(points[j][1][i])"
   ]
  },
  {
   "cell_type": "code",
   "execution_count": 243,
   "metadata": {},
   "outputs": [
    {
     "data": {
      "text/plain": [
       "[<matplotlib.lines.Line2D at 0x15a9880f6d0>]"
      ]
     },
     "execution_count": 243,
     "metadata": {},
     "output_type": "execute_result"
    },
    {
     "data": {
      "image/png": "[encoded data removed]",
      "text/plain": [
       "<Figure size 432x288 with 1 Axes>"
      ]
     },
     "metadata": {
      "needs_background": "light"
     },
     "output_type": "display_data"
    }
   ],
   "source": [
    "plt.plot(xxx, yyy)"
   ]
  },
  {
   "cell_type": "code",
   "execution_count": 226,
   "metadata": {},
   "outputs": [
    {
     "data": {
      "text/plain": [
       "[<matplotlib.lines.Line2D at 0x15a995f67c0>]"
      ]
     },
     "execution_count": 226,
     "metadata": {},
     "output_type": "execute_result"
    },
    {
     "data": {
      "image/png": "[encoded data removed]",
      "text/plain": [
       "<Figure size 432x288 with 1 Axes>"
      ]
     },
     "metadata": {
      "needs_background": "light"
     },
     "output_type": "display_data"
    }
   ],
   "source": [
    "plt.plot(_x, _y)"
   ]
  },
  {
   "cell_type": "code",
   "execution_count": 214,
   "metadata": {},
   "outputs": [
    {
     "data": {
      "text/plain": [
       "[<matplotlib.lines.Line2D at 0x15a99454100>]"
      ]
     },
     "execution_count": 214,
     "metadata": {},
     "output_type": "execute_result"
    },
    {
     "data": {
      "image/png": "[encoded data removed]",
      "text/plain": [
       "<Figure size 432x288 with 1 Axes>"
      ]
     },
     "metadata": {
      "needs_background": "light"
     },
     "output_type": "display_data"
    }
   ],
   "source": [
    "plt.plot(xx, yy)"
   ]
  },
  {
   "cell_type": "code",
   "execution_count": 184,
   "metadata": {
    "scrolled": true
   },
   "outputs": [
    {
     "data": {
      "text/plain": [
       "[0.8613223396984837,\n",
       " 0.23452685943349322,\n",
       " 0.13945165623857314,\n",
       " 1.2491639496928224,\n",
       " 0.0,\n",
       " 0.0,\n",
       " 0.0,\n",
       " 0.0,\n",
       " 0.0,\n",
       " 0.0,\n",
       " 0.0,\n",
       " 0.0,\n",
       " 0.0,\n",
       " 0.0,\n",
       " 0.0,\n",
       " 0.0,\n",
       " 0.0,\n",
       " 0.0,\n",
       " 0.7065082075368598,\n",
       " 0.075083879111812,\n",
       " 0.1250668370184826,\n",
       " -0.46387395278466476,\n",
       " 0.2324867705071135,\n",
       " 0.11046661819368772,\n",
       " 0.11758539933217299,\n",
       " 0.09008185547707769,\n",
       " 0.13664938263868845,\n",
       " 0.09670639088904293,\n",
       " 0.11472106610266056,\n",
       " 0.09548290919830048,\n",
       " 0.10179482347601317,\n",
       " 0.09021489581965976,\n",
       " 0.10283111439285744,\n",
       " 0.08683829019389697,\n",
       " 0.08640554510836529,\n",
       " 0.08538745880740613,\n",
       " 0.08234677233415764,\n",
       " 0.08023440868792385,\n",
       " 0.0774668589943885,\n",
       " 0.07359809354781695,\n",
       " 0.07507187665359036,\n",
       " 0.07378719046841523,\n",
       " 0.08047251031183435,\n",
       " 0.07990496552489493,\n",
       " 0.08457720217044352,\n",
       " 0.09087825251210961,\n",
       " 0.09852691991908018,\n",
       " 0.09680045632540729,\n",
       " 0.10178405399597959,\n",
       " 0.11039758966083145,\n",
       " 0.11174452654469,\n",
       " 0.12045942104878904,\n",
       " 0.1280075567870646,\n",
       " 0.11852647004464038,\n",
       " 0.1307034152477861,\n",
       " 0.13013096948033434,\n",
       " 0.14962554952291895,\n",
       " 0.13121191863043893,\n",
       " 0.19447765150141502,\n",
       " 0.007306319301122425,\n",
       " 0.9368393935051417,\n",
       " 0.13143922366799501,\n",
       " 0.07196995934824278,\n",
       " 0.12235352874559896,\n",
       " 0.18150612777569014,\n",
       " 0.6247279739273913,\n",
       " 0.11047907071562368,\n",
       " 0.13910539504996025,\n",
       " 0.05717337547004646,\n",
       " 0.1928671589712961,\n",
       " 6.183923679150738,\n",
       " 0.0,\n",
       " 0.0,\n",
       " 0.0,\n",
       " 0.0,\n",
       " 0.0,\n",
       " 0.0,\n",
       " 0.9982970821673887,\n",
       " 0.0642889187601411,\n",
       " 0.26496254391237617]"
      ]
     },
     "execution_count": 184,
     "metadata": {},
     "output_type": "execute_result"
    }
   ],
   "source": [
    "aa"
   ]
  },
  {
   "cell_type": "code",
   "execution_count": 183,
   "metadata": {},
   "outputs": [
    {
     "data": {
      "text/plain": [
       "100"
      ]
     },
     "execution_count": 183,
     "metadata": {},
     "output_type": "execute_result"
    }
   ],
   "source": [
    "len(bb)"
   ]
  }
 ],
 "metadata": {
  "kernelspec": {
   "display_name": "Python 3",
   "language": "python",
   "name": "python3"
  },
  "language_info": {
   "codemirror_mode": {
    "name": "ipython",
    "version": 3
   },
   "file_extension": ".py",
   "mimetype": "text/x-python",
   "name": "python",
   "nbconvert_exporter": "python",
   "pygments_lexer": "ipython3",
   "version": "3.8.5"
  }
 },
 "nbformat": 4,
 "nbformat_minor": 4
}
