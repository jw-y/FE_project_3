{
 "cells": [
  {
   "cell_type": "code",
   "execution_count": 14,
   "metadata": {},
   "outputs": [],
   "source": [
    "import numpy as np\n",
    "import matplotlib.pyplot as plt"
   ]
  },
  {
   "cell_type": "code",
   "execution_count": 11,
   "metadata": {},
   "outputs": [],
   "source": [
    "def deCasteljau(i, j, u, D):\n",
    "    if D[i][j]: \n",
    "        return D[i][j]\n",
    "    p0 = deCasteljau(i-1, j, u, D)\n",
    "    p1 = deCasteljau(i-1, j+1, u, D)\n",
    "    D[i][j] = ((1-u)*p0[0]+u*p1[0], (1-u)*p0[1]+u*p1[1])\n",
    "    return D[i][j]\n"
   ]
  },
  {
   "cell_type": "code",
   "execution_count": 28,
   "metadata": {},
   "outputs": [],
   "source": [
    "points = []\n",
    "P = [(2, -1), (1,1), (0,1),  (-0.5, 1), (-0.75, -2),(-1, -1)]\n",
    "n = len(P)-1\n",
    "for u in np.linspace(0, 1, 100):\n",
    "    D = [[None]*(n+1) for _ in range(n+1)]\n",
    "    for j in range(n+1):\n",
    "        D[0][j] = P[j]\n",
    "    #for k in range(1, n+1):\n",
    "    #    for i in range(0, n-k+1):\n",
    "    #        D[i].append(None)\n",
    "    points.append(deCasteljau(n, 0, u, D))"
   ]
  },
  {
   "cell_type": "code",
   "execution_count": 29,
   "metadata": {
    "scrolled": true
   },
   "outputs": [
    {
     "data": {
      "text/plain": [
       "[(2.0, -1.0),\n",
       " (1.949500063586313, -0.9010101535658563),\n",
       " (1.8990305013074562, -0.8059814463680225),\n",
       " (1.8486208379202942, -0.7147993377759105),\n",
       " (1.7982996801910072, -0.627355154728207),\n",
       " (1.7480947263589242, -0.5435459024564502),\n",
       " (1.6980327756003373, -0.4632740752085972),\n",
       " (1.648139737492326, -0.38644746697259846),\n",
       " (1.5984406414765795, -0.31297898219996945),\n",
       " (1.548959646323214, -0.24278644652936016),\n",
       " (1.4997200495946013, -0.17579241751012986),\n",
       " (1.4507442971091802, -0.11192399532591563),\n",
       " (1.402053992405289, -0.05111263351820691),\n",
       " (1.353669906204978, 0.006706050290085197),\n",
       " (1.3056119858778343, 0.06159246367105457),\n",
       " (1.2578993649048065, 0.11360322866822874),\n",
       " (1.2105503723420186, 0.16279137107299835),\n",
       " (1.1635825422845996, 0.20920650970104332),\n",
       " (1.1170126233304973, 0.2528950456687634),\n",
       " (1.0708565880443075, 0.29390035166970474),\n",
       " (1.0251296424210885, 0.3322629612509893),\n",
       " (0.9798462353501851, 0.36802075808974244),\n",
       " (0.9350200680790531, 0.401209165269522),\n",
       " (0.8906641036770743, 0.4318613345567456),\n",
       " (0.846790576499385, 0.46000833567711974),\n",
       " (0.8034110016506911, 0.48567934559206793),\n",
       " (0.7605361844490945, 0.5089018377751588),\n",
       " (0.7181762298899107, 0.5297017714885348),\n",
       " (0.6763405521094925, 0.5481037810593395),\n",
       " (0.6350378838490516, 0.5641313651561477),\n",
       " (0.5942762859184781, 0.5778070760653918),\n",
       " (0.5540631566601629, 0.5891527089677914),\n",
       " (0.5144052414128206, 0.5981894912147808),\n",
       " (0.47530864197530853, 0.6049382716049383),\n",
       " (0.4367788260704493, 0.6094197096604135),\n",
       " (0.39882063680885194, 0.6116544649033557),\n",
       " (0.3614383021527342, 0.6116633861323432),\n",
       " (0.32463544437974257, 0.6094677006988105),\n",
       " (0.2884150895467743, 0.605089203783477),\n",
       " (0.25277967695379955, 0.5985504476727753),\n",
       " (0.217731068607682, 0.58987493103528),\n",
       " (0.1832705586859999, 0.5790872881981349),\n",
       " (0.1493988830008682, 0.5662134784234821),\n",
       " (0.11611622846275997, 0.5512809751848908),\n",
       " (0.0834222425443276, 0.534318955443784),\n",
       " (0.05131604274422377, 0.515358488925868),\n",
       " (0.019796226050923876, 0.49443272739756117),\n",
       " (-0.01113912159345315, 0.471577093942421),\n",
       " (-0.04149241582932364, 0.4468294722375728),\n",
       " (-0.07126656441581777, 0.4202303958301381),\n",
       " (-0.10046495776695732, 0.3918232374136641),\n",
       " (-0.12909145948783524, 0.3616543981045492),\n",
       " (-0.1571503969107933, 0.3297734967184748),\n",
       " (-0.1846465516316019, 0.2962335590468305),\n",
       " (-0.21158515004563788, 0.26109120713314393),\n",
       " (-0.23797185388406242, 0.2244068485495097),\n",
       " (-0.2638127507500015, 0.18624486567301535),\n",
       " (-0.28911434465472224, 0.14667380496217297),\n",
       " (-0.3138835465538134, 0.10576656623334463),\n",
       " (-0.3381276648833634, 0.06360059193717099),\n",
       " (-0.3618543960961374, 0.020258056435002447),\n",
       " (-0.3850718151977587, -0.024173944724676988),\n",
       " (-0.4077883662828848, -0.06960320552981655),\n",
       " (-0.4300128530713876, -0.11593222022837535),\n",
       " (-0.45175442944453054, -0.16305799405188945),\n",
       " (-0.4730225899811489, -0.21087185393904728),\n",
       " (-0.4938271604938273, -0.2592592592592595),\n",
       " (-0.5141782885650779, -0.30809961253622997),\n",
       " (-0.5340864340835205, -0.3572660701715301),\n",
       " (-0.553562359780059, -0.406625353168167),\n",
       " (-0.5726171217640625, -0.45603755785415884),\n",
       " (-0.5912620600595414, -0.5053559666061028),\n",
       " (-0.6095087891413279, -0.5544268585727504),\n",
       " (-0.6273691884712538, -0.6030893203985777),\n",
       " (-0.6448553930343284, -0.6511750569473548),\n",
       " (-0.6619797838749186, -0.6985082020257216),\n",
       " (-0.6787549786329266, -0.7449051291067564),\n",
       " (-0.6951938220799675, -0.7901742620535489),\n",
       " (-0.7113093766555508, -0.834115885842772),\n",
       " (-0.7271149130032554, -0.8765219572882517),\n",
       " (-0.7426239005069113, -0.9171759157645423),\n",
       " (-0.7578499978267754, -0.9558524939304941),\n",
       " (-0.772807043435713, -0.9923175284528292),\n",
       " (-0.7875090461553735, -1.0263277707297074),\n",
       " (-0.8019701756923714, -1.0576306976143053),\n",
       " (-0.8162047531744634, -1.0859643221383828),\n",
       " (-0.8302272416867271, -1.1110570042358547),\n",
       " (-0.844052236807741, -1.1326272614663666),\n",
       " (-0.8576944571457604, -1.150383579738861),\n",
       " (-0.8711687348748991, -1.1640242240351544),\n",
       " (-0.8844900062713055, -1.1732370491335047),\n",
       " (-0.8976733022493425, -1.177699310332185),\n",
       " (-0.9107337388977661, -1.1770774741730554),\n",
       " (-0.9236865080159027, -1.1710270291651343),\n",
       " (-0.9365468676498296, -1.1591922965081698),\n",
       " (-0.9493301326285519, -1.141206240816211),\n",
       " (-0.9620516651001819, -1.1166902808411814),\n",
       " (-0.974726865068118, -1.0852541001964477),\n",
       " (-0.9873711609272222, -1.0464954580803965),\n",
       " (-1.0, -1.0)]"
      ]
     },
     "execution_count": 29,
     "metadata": {},
     "output_type": "execute_result"
    }
   ],
   "source": [
    "points"
   ]
  },
  {
   "cell_type": "code",
   "execution_count": 31,
   "metadata": {},
   "outputs": [
    {
     "data": {
      "text/plain": [
       "<matplotlib.collections.PathCollection at 0x7f48cea5ef70>"
      ]
     },
     "execution_count": 31,
     "metadata": {},
     "output_type": "execute_result"
    },
    {
     "data": {
      "image/png": "[encoded data removed]",
      "text/plain": [
       "<Figure size 432x288 with 1 Axes>"
      ]
     },
     "metadata": {
      "needs_background": "light"
     },
     "output_type": "display_data"
    }
   ],
   "source": [
    "plt.plot(*zip(*points))\n",
    "plt.scatter(*zip(*P))"
   ]
  },
  {
   "cell_type": "code",
   "execution_count": 17,
   "metadata": {},
   "outputs": [
    {
     "ename": "TypeError",
     "evalue": "scatter() missing 1 required positional argument: 'y'",
     "output_type": "error",
     "traceback": [
      "\u001b[0;31m---------------------------------------------------------------------------\u001b[0m",
      "\u001b[0;31mTypeError\u001b[0m                                 Traceback (most recent call last)",
      "\u001b[0;32m<ipython-input-17-4d7c42db8bd6>\u001b[0m in \u001b[0;36m<module>\u001b[0;34m\u001b[0m\n\u001b[0;32m----> 1\u001b[0;31m \u001b[0mplt\u001b[0m\u001b[0;34m.\u001b[0m\u001b[0mscatter\u001b[0m\u001b[0;34m(\u001b[0m\u001b[0mpoints\u001b[0m\u001b[0;34m)\u001b[0m\u001b[0;34m\u001b[0m\u001b[0;34m\u001b[0m\u001b[0m\n\u001b[0m",
      "\u001b[0;31mTypeError\u001b[0m: scatter() missing 1 required positional argument: 'y'"
     ]
    }
   ],
   "source": []
  },
  {
   "cell_type": "code",
   "execution_count": null,
   "metadata": {},
   "outputs": [],
   "source": []
  }
 ],
 "metadata": {
  "kernelspec": {
   "display_name": "Python 3",
   "language": "python",
   "name": "python3"
  },
  "language_info": {
   "codemirror_mode": {
    "name": "ipython",
    "version": 3
   },
   "file_extension": ".py",
   "mimetype": "text/x-python",
   "name": "python",
   "nbconvert_exporter": "python",
   "pygments_lexer": "ipython3",
   "version": "3.8.2"
  }
 },
 "nbformat": 4,
 "nbformat_minor": 4
}
