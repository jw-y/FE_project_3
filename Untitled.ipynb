{
 "cells": [
  {
   "cell_type": "code",
   "execution_count": null,
   "metadata": {},
   "outputs": [],
   "source": [
    "def deCasteljau(i, j, u, D):\n",
    "    if D[i][j]: \n",
    "        return D[i][j]\n",
    "    p0 = deCasteljau(i-1, j, u)\n",
    "    p1 = deCasteljau(i-1, j+1, u)\n",
    "    D[i][j] = ((1-u)*p0[0]+u*p1[0], (1-u)*p0[1]+u*p1[1])\n",
    "    return D[i][j]\n",
    "\n",
    "points = []\n",
    "for u in np.linspace(0, 1, 100):\n",
    "    D = [[None]*(n+1) for _ in range(n+1)]\n",
    "    for j in range(n+1):\n",
    "        D[0][j] = P[j]\n",
    "    #for k in range(1, n+1):\n",
    "    #    for i in range(0, n-k+1):\n",
    "    #        D[i].append(None)\n",
    "    points.append(deCasteljau(n, 0, u))"
   ]
  }
 ],
 "metadata": {
  "kernelspec": {
   "display_name": "Python 3",
   "language": "python",
   "name": "python3"
  },
  "language_info": {
   "codemirror_mode": {
    "name": "ipython",
    "version": 3
   },
   "file_extension": ".py",
   "mimetype": "text/x-python",
   "name": "python",
   "nbconvert_exporter": "python",
   "pygments_lexer": "ipython3",
   "version": "3.8.2"
  }
 },
 "nbformat": 4,
 "nbformat_minor": 4
}
